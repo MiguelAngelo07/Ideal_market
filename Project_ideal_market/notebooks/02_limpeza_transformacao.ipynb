{
 "cells": [
  {
   "cell_type": "code",
   "execution_count": 6,
   "id": "a6be9b7c",
   "metadata": {},
   "outputs": [],
   "source": [
    "import os\n",
    "import pandas as pd\n",
    "\n",
    "# Leitura dos dados\n",
    "vendas = pd.read_csv('../data/raw/vendas.csv')\n",
    "clientes = pd.read_csv('../data/raw/clientes.csv')\n",
    "produtos = pd.read_csv('../data/raw/produtos.csv')\n",
    "\n",
    "# Limpeza\n",
    "vendas.dropna(inplace=True)\n",
    "clientes['genero'] = clientes['genero'].str.upper()\n",
    "\n",
    "# Merge\n",
    "df = vendas.merge(produtos, on='produto_id').merge(clientes, on='cliente_id')\n",
    "os.makedirs('../data/processed', exist_ok=True)\n",
    "df.to_csv('../data/processed/vendas_completa.csv', index=False)\n"
   ]
  }
 ],
 "metadata": {
  "kernelspec": {
   "display_name": "venv",
   "language": "python",
   "name": "python3"
  },
  "language_info": {
   "codemirror_mode": {
    "name": "ipython",
    "version": 3
   },
   "file_extension": ".py",
   "mimetype": "text/x-python",
   "name": "python",
   "nbconvert_exporter": "python",
   "pygments_lexer": "ipython3",
   "version": "3.12.4"
  }
 },
 "nbformat": 4,
 "nbformat_minor": 5
}
