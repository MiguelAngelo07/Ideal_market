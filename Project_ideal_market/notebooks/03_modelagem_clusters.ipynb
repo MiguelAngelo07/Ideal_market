{
 "cells": [
  {
   "cell_type": "code",
   "execution_count": null,
   "id": "3d0095da",
   "metadata": {
    "vscode": {
     "languageId": "plaintext"
    }
   },
   "outputs": [],
   "source": [
    "from sklearn.cluster import KMeans\n",
    "import seaborn as sns\n",
    "import matplotlib.pyplot as plt\n",
    "\n",
    "df = pd.read_csv('data/processed/vendas_completa.csv')\n",
    "compras_cliente = df.groupby('cliente_id')['quantidade'].sum().reset_index()\n",
    "kmeans = KMeans(n_clusters=3, random_state=42)\n",
    "compras_cliente['cluster'] = kmeans.fit_predict(compras_cliente[['quantidade']])\n",
    "\n",
    "sns.countplot(x='cluster', data=compras_cliente)\n",
    "plt.title(\"Clusters de Clientes\")\n",
    "plt.show()\n"
   ]
  }
 ],
 "metadata": {
  "language_info": {
   "name": "python"
  }
 },
 "nbformat": 4,
 "nbformat_minor": 5
}
