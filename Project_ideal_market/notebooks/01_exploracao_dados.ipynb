{
 "cells": [
  {
   "cell_type": "code",
   "execution_count": 1,
   "id": "99e1ce7d",
   "metadata": {},
   "outputs": [],
   "source": [
    "import os\n",
    "import pandas as pd\n"
   ]
  },
  {
   "cell_type": "code",
   "execution_count": 2,
   "id": "48f2fc9a",
   "metadata": {},
   "outputs": [
    {
     "name": "stdout",
     "output_type": "stream",
     "text": [
      "Diretório atual: c:\\Users\\Miguel\\Desktop\\Data_analysis\\Project_ideal_market\\notebooks\n"
     ]
    }
   ],
   "source": [
    "print(\"Diretório atual:\", os.getcwd())\n",
    "\n",
    "clientes = pd.read_csv('../data/raw/clientes.csv')\n",
    "vendas = pd.read_csv('../data/raw/vendas.csv')\n",
    "produtos = pd.read_csv('../data/raw/produtos.csv')"
   ]
  },
  {
   "cell_type": "code",
   "execution_count": 4,
   "id": "eb8afb46",
   "metadata": {},
   "outputs": [
    {
     "name": "stdout",
     "output_type": "stream",
     "text": [
      "   cliente_id                 nome  idade     genero          cidade\n",
      "0           1  Sr. Emanuel Costela     56   Feminino  Rio de Janeiro\n",
      "1           2        Cauã Ferreira     69   Feminino  Rio de Janeiro\n",
      "2           3        Cauê Ferreira     46  Masculino       São Paulo\n",
      "3           4      Giovanna Aragão     32  Masculino           Belém\n",
      "4           5         Thomas Alves     60   Feminino          Manaus\n"
     ]
    }
   ],
   "source": [
    "\n",
    "\n",
    "print(clientes.head())\n",
    "#print(produtos['categoria'].value_counts())\n",
    "#print(vendas.describe())"
   ]
  }
 ],
 "metadata": {
  "kernelspec": {
   "display_name": "venv",
   "language": "python",
   "name": "python3"
  },
  "language_info": {
   "codemirror_mode": {
    "name": "ipython",
    "version": 3
   },
   "file_extension": ".py",
   "mimetype": "text/x-python",
   "name": "python",
   "nbconvert_exporter": "python",
   "pygments_lexer": "ipython3",
   "version": "3.12.4"
  }
 },
 "nbformat": 4,
 "nbformat_minor": 5
}
